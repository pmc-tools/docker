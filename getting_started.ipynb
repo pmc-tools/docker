{
 "cells": [
  {
   "metadata": {},
   "cell_type": "markdown",
   "source": [
    "# Getting started\n",
    "\n",
    "This notebook displays how to get started with testing UMB integration in various tools.\n",
    "\n",
    "We start by initializing some tools that are already integrated."
   ],
   "id": "435122e1feec69df"
  },
  {
   "cell_type": "code",
   "id": "initial_id",
   "metadata": {
    "collapsed": true,
    "ExecuteTime": {
     "end_time": "2025-08-14T14:19:22.938219Z",
     "start_time": "2025-08-14T14:19:22.906881Z"
    }
   },
   "source": [
    "from umbtest.tools import PrismCLI, StormCLI, UmbPython\n",
    "\n",
    "# Note. The following can be used to configure the locations of the tools.\n",
    "# If you are using this in a docker container, it is not necessary to set these paths.\n",
    "# PrismCLI.prism_dir_path = \"/Users/junges/prism-umb/\"\n",
    "# StormCLI._storm_path = \"/Users/junges/storm-umb/build/bin/storm\""
   ],
   "outputs": [],
   "execution_count": 6
  },
  {
   "metadata": {},
   "cell_type": "markdown",
   "source": "Next, we set up some test chain that can test interactions between tools supporting UMB.",
   "id": "8d733bd15e51bd1"
  },
  {
   "metadata": {
    "ExecuteTime": {
     "end_time": "2025-08-14T14:19:28.327503Z",
     "start_time": "2025-08-14T14:19:28.318937Z"
    }
   },
   "cell_type": "code",
   "source": [
    "from pathlib import Path\n",
    "from umbtest.benchmarks import Tester\n",
    "\n",
    "tester = Tester()\n",
    "tester.set_chain(PrismCLI, UmbPython, PrismCLI)\n",
    "\n",
    "\n"
   ],
   "id": "ccee9d492e3444ed",
   "outputs": [],
   "execution_count": 7
  },
  {
   "metadata": {},
   "cell_type": "markdown",
   "source": "Now, we can rather easily check whether processing a file maintains particular specs.",
   "id": "6436bbcc95cdb63c"
  },
  {
   "metadata": {
    "ExecuteTime": {
     "end_time": "2025-08-14T14:23:06.641906Z",
     "start_time": "2025-08-14T14:23:04.800478Z"
    }
   },
   "cell_type": "code",
   "source": "tester.check_prism_file(Path(PrismCLI.prism_dir_path) / \"prism-examples/simple/dice/dice.pm\", [\"R=? [F d=7]\"])\n",
   "id": "97686e251dfb28e0",
   "outputs": [
    {
     "name": "stderr",
     "output_type": "stream",
     "text": [
      "INFO - reading $/var/folders/w5/8x22ngtd70b1fjrmm0cz66940000gn/T/tmpvwjw6n6y/tmpvs5zotzw.umb\n",
      "DEBUG - found the following files:\n",
      "index.json\n",
      "choice-to-branch.bin\n",
      "branch-probabilities.bin\n",
      "branch-to-target.bin\n",
      "initial-states.bin\n",
      "action-to-action-strings.bin\n",
      "action-strings.bin\n",
      "annotations/rewards/coin_flips/for-branches/values.bin\n",
      "annotations/variables/s/for-states/values.bin\n",
      "annotations/variables/d/for-states/values.bin\n",
      "DEBUG - {\n",
      "    \"format-version\": 0,\n",
      "    \"format-revision\": 1,\n",
      "    \"model-data\": {},\n",
      "    \"file-data\": {\n",
      "        \"tool\": \"PRISM\",\n",
      "        \"tool-version\": \"4.8.1.dev\",\n",
      "        \"creation-date\": 1755181385\n",
      "    },\n",
      "    \"transition-system\": {\n",
      "        \"time\": \"discrete\",\n",
      "        \"#players\": 0,\n",
      "        \"#states\": 13,\n",
      "        \"#initial-states\": 1,\n",
      "        \"#choices\": 13,\n",
      "        \"#actions\": 1,\n",
      "        \"#branches\": 20,\n",
      "        \"branch-probability-type\": \"double\"\n",
      "    },\n",
      "    \"annotations\": {\n",
      "        \"rewards\": {\n",
      "            \"coin_flips\": {\n",
      "                \"alias\": \"coin_flips\",\n",
      "                \"applies-to\": [\n",
      "                    \"branches\"\n",
      "                ],\n",
      "                \"type\": \"double\"\n",
      "            }\n",
      "        },\n",
      "        \"variables\": {\n",
      "            \"s\": {\n",
      "                \"alias\": \"s\",\n",
      "                \"applies-to\": [\n",
      "                    \"states\"\n",
      "                ],\n",
      "                \"type\": \"int\"\n",
      "            },\n",
      "            \"d\": {\n",
      "                \"alias\": \"d\",\n",
      "                \"applies-to\": [\n",
      "                    \"states\"\n",
      "                ],\n",
      "                \"type\": \"int\"\n",
      "            }\n",
      "        }\n",
      "    }\n",
      "}\n",
      "WARNING - variable annotation type is int, interpreting as int32\n",
      "WARNING - variable annotation type is int, interpreting as int32\n",
      "INFO - successfully read input file\n",
      "WARNING - variable annotation type is int32, storing as int in the index file\n",
      "WARNING - variable annotation type is int32, storing as int in the index file\n",
      "DEBUG - {\n",
      "    \"format-version\": 0,\n",
      "    \"format-revision\": 1,\n",
      "    \"model-data\": {},\n",
      "    \"file-data\": {\n",
      "        \"tool\": \"unknown\",\n",
      "        \"tool-version\": \"0.0.0\",\n",
      "        \"creation-date\": 1755181385\n",
      "    },\n",
      "    \"transition-system\": {\n",
      "        \"time\": \"discrete\",\n",
      "        \"#players\": 0,\n",
      "        \"#states\": 13,\n",
      "        \"#initial-states\": 1,\n",
      "        \"#choices\": 13,\n",
      "        \"#actions\": 1,\n",
      "        \"#branches\": 20,\n",
      "        \"branch-probability-type\": \"double\"\n",
      "    },\n",
      "    \"annotations\": {\n",
      "        \"rewards\": {\n",
      "            \"coin_flips\": {\n",
      "                \"alias\": \"coin_flips\",\n",
      "                \"applies-to\": [\n",
      "                    \"branches\"\n",
      "                ],\n",
      "                \"type\": \"double\"\n",
      "            }\n",
      "        },\n",
      "        \"variables\": {\n",
      "            \"s\": {\n",
      "                \"alias\": \"s\",\n",
      "                \"applies-to\": [\n",
      "                    \"states\"\n",
      "                ],\n",
      "                \"type\": \"int\"\n",
      "            },\n",
      "            \"d\": {\n",
      "                \"alias\": \"d\",\n",
      "                \"applies-to\": [\n",
      "                    \"states\"\n",
      "                ],\n",
      "                \"type\": \"int\"\n",
      "            }\n",
      "        }\n",
      "    }\n",
      "}\n",
      "WARNING - exporting empty binary file\n",
      "WARNING - variable annotation type is int, interpreting as int32\n",
      "WARNING - variable annotation type is int, interpreting as int32\n",
      "INFO - data exported to /var/folders/w5/8x22ngtd70b1fjrmm0cz66940000gn/T/tmpvwjw6n6y/tmpx510yihr.umb\n"
     ]
    },
    {
     "name": "stdout",
     "output_type": "stream",
     "text": [
      "ReportedResults[/var/folders/w5/8x22ngtd70b1fjrmm0cz66940000gn/T/tmpvwjw6n6y/tmpascfauvi.log,0,{'states': '13', 'transitions': '20'},None,None]\n",
      "ReportedResults[None,None,namespace(time='discrete', num_players=0, num_states=13, num_initial_states=1, num_choices=13, num_actions=1, num_branches=20, branch_probability_type='double'),None,None]\n",
      "ReportedResults[/var/folders/w5/8x22ngtd70b1fjrmm0cz66940000gn/T/tmpvwjw6n6y/tmpfnvwr47q.log,0,{'states': '13', 'transitions': '20'},None,None]\n"
     ]
    }
   ],
   "execution_count": 10
  },
  {
   "metadata": {},
   "cell_type": "code",
   "outputs": [],
   "execution_count": null,
   "source": "",
   "id": "fcfb06734d302962"
  }
 ],
 "metadata": {
  "kernelspec": {
   "display_name": "Python 3",
   "language": "python",
   "name": "python3"
  },
  "language_info": {
   "codemirror_mode": {
    "name": "ipython",
    "version": 2
   },
   "file_extension": ".py",
   "mimetype": "text/x-python",
   "name": "python",
   "nbconvert_exporter": "python",
   "pygments_lexer": "ipython2",
   "version": "2.7.6"
  }
 },
 "nbformat": 4,
 "nbformat_minor": 5
}
