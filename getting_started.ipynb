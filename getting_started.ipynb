{
 "cells": [
  {
   "cell_type": "markdown",
   "id": "d453fe693072887c",
   "metadata": {},
   "source": [
    "# Getting started\n",
    "\n",
    "## Exploring the docker\n",
    "This part of the notebook assumes you are running everything in the associated Docker. It gives you convenient access to the docker container.\n",
    "\n",
    "### Run Storm\n",
    "One can run storm"
   ]
  },
  {
   "metadata": {},
   "cell_type": "code",
   "outputs": [],
   "execution_count": null,
   "source": "!/opt/storm/build/bin/storm --help\n",
   "id": "bfce9284ac89e735"
  },
  {
   "metadata": {},
   "cell_type": "markdown",
   "source": [
    "### Run Prism\n",
    "\n",
    "One can also run prism"
   ],
   "id": "e0692a840af000d4"
  },
  {
   "metadata": {
    "ExecuteTime": {
     "end_time": "2025-08-30T20:53:11.091377Z",
     "start_time": "2025-08-30T20:53:10.944177Z"
    }
   },
   "cell_type": "code",
   "source": "!/opt/prism/prism/bin/prism",
   "id": "4640a69af0dd356b",
   "outputs": [
    {
     "name": "stdout",
     "output_type": "stream",
     "text": [
      "zsh:1: no such file or directory: /opt/prism/prism/bin/prism\r\n"
     ]
    }
   ],
   "execution_count": 9
  },
  {
   "metadata": {},
   "cell_type": "markdown",
   "source": [
    "\n",
    "## Umbtest\n",
    "This notebook displays how to get started with testing UMB integration in various tools.\n",
    "\n",
    "We start by initializing some tools that are already integrated."
   ],
   "id": "435122e1feec69df"
  },
  {
   "cell_type": "code",
   "id": "initial_id",
   "metadata": {
    "ExecuteTime": {
     "end_time": "2025-08-30T20:49:11.917924Z",
     "start_time": "2025-08-30T20:49:10.381561Z"
    }
   },
   "source": [
    "from umbtest.tools import PrismCLI, StormCLI, UmbPython, check_tools\n",
    "\n",
    "# Note. The following can be used to configure the locations of the tools.\n",
    "# If you are using this in a docker container, it is not necessary to set these paths.\n",
    "PrismCLI.prism_dir_path = \"/Users/junges/prism-umb/\"\n",
    "StormCLI._storm_path = \"/Users/junges/storm-umb/build/bin/storm\"\n",
    "check_tools(PrismCLI, StormCLI, UmbPython)"
   ],
   "outputs": [
    {
     "name": "stdout",
     "output_type": "stream",
     "text": [
      "/Users/junges/prism-umb/prism/bin/prism -version -test\n",
      "/Users/junges/storm-umb/build/bin/storm --version\n"
     ]
    }
   ],
   "execution_count": 4
  },
  {
   "cell_type": "markdown",
   "id": "8d733bd15e51bd1",
   "metadata": {},
   "source": [
    "Next, we set up some test chain that can test interactions between tools supporting UMB."
   ]
  },
  {
   "cell_type": "code",
   "id": "ccee9d492e3444ed",
   "metadata": {
    "ExecuteTime": {
     "end_time": "2025-08-30T20:49:14.441386Z",
     "start_time": "2025-08-30T20:49:14.430485Z"
    }
   },
   "source": [
    "from pathlib import Path\n",
    "from umbtest.benchmarks import Tester\n",
    "\n",
    "tester = Tester()\n",
    "tester.set_chain(PrismCLI, UmbPython, PrismCLI)"
   ],
   "outputs": [],
   "execution_count": 5
  },
  {
   "cell_type": "markdown",
   "id": "6436bbcc95cdb63c",
   "metadata": {},
   "source": [
    "Now, we can rather easily check whether processing a file maintains particular specs."
   ]
  },
  {
   "cell_type": "code",
   "id": "97686e251dfb28e0",
   "metadata": {
    "ExecuteTime": {
     "end_time": "2025-08-27T10:31:44.746430Z",
     "start_time": "2025-08-27T10:31:44.635753Z"
    }
   },
   "source": [
    "tester.check_prism_file(Path(PrismCLI.prism_dir_path) / \"prism-examples/simple/dice/dice.pm\", [\"R=? [F s=7]\"])\n"
   ],
   "outputs": [
    {
     "ename": "NameError",
     "evalue": "name 'tester' is not defined",
     "output_type": "error",
     "traceback": [
      "\u001B[31m---------------------------------------------------------------------------\u001B[39m",
      "\u001B[31mNameError\u001B[39m                                 Traceback (most recent call last)",
      "\u001B[36mCell\u001B[39m\u001B[36m \u001B[39m\u001B[32mIn[1]\u001B[39m\u001B[32m, line 1\u001B[39m\n\u001B[32m----> \u001B[39m\u001B[32m1\u001B[39m \u001B[43mtester\u001B[49m.check_prism_file(Path(PrismCLI.prism_dir_path) / \u001B[33m\"\u001B[39m\u001B[33mprism-examples/simple/dice/dice.pm\u001B[39m\u001B[33m\"\u001B[39m, [\u001B[33m\"\u001B[39m\u001B[33mR=? [F s=7]\u001B[39m\u001B[33m\"\u001B[39m])\n",
      "\u001B[31mNameError\u001B[39m: name 'tester' is not defined"
     ]
    }
   ],
   "execution_count": 1
  },
  {
   "cell_type": "code",
   "execution_count": 9,
   "id": "fcfb06734d302962",
   "metadata": {},
   "outputs": [
    {
     "name": "stdout",
     "output_type": "stream",
     "text": [
      "PRISM\n",
      "=====\n",
      "\n",
      "Version: 4.8.1.dev\n",
      "Date: Thu Aug 14 16:50:26 CEST 2025\n",
      "Hostname: Sebastians-MacBook-Pro.local\n",
      "Memory limits: cudd=1g, java(heap)=1g\n",
      "Command line: prism -mainlog /var/folders/w5/8x22ngtd70b1fjrmm0cz66940000gn/T/tmpa5svkjpm/tmpef3hy_ki.log -importmodel /var/folders/w5/8x22ngtd70b1fjrmm0cz66940000gn/T/tmpa5svkjpm/tmpeuvgcu33.umb\n",
      "\n",
      "Importing model from \"tmpeuvgcu33.umb\"...\n",
      "\n",
      "Type:        DTMC\n",
      "Variables:   s d\n",
      "Rewards:     \"coin_flips\"\n",
      "\n",
      "---------------------------------------------------------------------\n",
      "\n",
      "Building model (engine:symbolic)...\n",
      "Importing transitions... [ 100% ]\n",
      "\n",
      "Computing reachable states...\n",
      "\n",
      "Reachability (BFS): 4 iterations in 0.00 seconds (average 0.000000, setup 0.00)\n",
      "\n",
      "Time for model construction: 0.03 seconds.\n",
      "\n",
      "Type:        DTMC\n",
      "States:      13 (1 initial)\n",
      "Transitions: 20\n",
      "\n",
      "Transition matrix: 71 nodes (3 terminal), 20 minterms, vars: 6r/6c\n",
      "\n"
     ]
    }
   ],
   "source": [
    "!cat /var/folders/w5/8x22ngtd70b1fjrmm0cz66940000gn/T/tmpa5svkjpm/tmpef3hy_ki.log"
   ]
  },
  {
   "cell_type": "code",
   "execution_count": null,
   "id": "72adf588-9f25-47b5-9b7f-e76fefd68cb4",
   "metadata": {},
   "outputs": [],
   "source": []
  }
 ],
 "metadata": {
  "kernelspec": {
   "display_name": "Python 3 (ipykernel)",
   "language": "python",
   "name": "python3"
  },
  "language_info": {
   "codemirror_mode": {
    "name": "ipython",
    "version": 3
   },
   "file_extension": ".py",
   "mimetype": "text/x-python",
   "name": "python",
   "nbconvert_exporter": "python",
   "pygments_lexer": "ipython3",
   "version": "3.13.4"
  }
 },
 "nbformat": 4,
 "nbformat_minor": 5
}
